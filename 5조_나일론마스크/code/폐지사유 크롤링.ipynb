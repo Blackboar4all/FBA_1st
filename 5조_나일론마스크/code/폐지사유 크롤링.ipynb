{
 "cells": [
  {
   "cell_type": "code",
   "execution_count": 1,
   "id": "eb2d5c21",
   "metadata": {
    "ExecuteTime": {
     "end_time": "2021-12-07T02:17:40.250662Z",
     "start_time": "2021-12-07T02:17:30.393805Z"
    }
   },
   "outputs": [],
   "source": [
    "from bs4 import BeautifulSoup\n",
    "import urllib.request\n",
    "\n",
    "from selenium import webdriver\n",
    "import pandas as pd\n",
    "import numpy as np\n",
    "\n",
    "from collections import OrderedDict\n",
    "\n",
    "import time\n",
    "from tqdm import tqdm\n",
    "\n",
    "from nltk.tokenize import word_tokenize\n",
    "\n",
    "import warnings\n",
    "warnings.filterwarnings(action='ignore')"
   ]
  },
  {
   "cell_type": "code",
   "execution_count": 2,
   "id": "3656e1d3",
   "metadata": {
    "ExecuteTime": {
     "end_time": "2021-12-07T02:17:40.266556Z",
     "start_time": "2021-12-07T02:17:40.254591Z"
    }
   },
   "outputs": [],
   "source": [
    "vocab = {} \n",
    "preprocessed_sentences = []"
   ]
  },
  {
   "cell_type": "code",
   "execution_count": 3,
   "id": "a6ab6bf1",
   "metadata": {
    "ExecuteTime": {
     "end_time": "2021-12-07T02:17:40.298471Z",
     "start_time": "2021-12-07T02:17:40.272542Z"
    }
   },
   "outputs": [],
   "source": [
    "date = []\n",
    "cpy_info = []\n",
    "link_box = []\n",
    "company = []\n",
    "topic = []\n",
    "checkbox = [1,3,4,14,15,19,24,27,63,65,67] # 11,10번은 따로 23소송도 따로\n",
    "\n",
    "\"\"\" 1:가족친화/녹색경영정보 3:기술도입 4:기술성장기업 14:벌금/과징금/행정조치 15:부도/은행거래정지 19:사채/대출원리금미지급 24:손상차손등 27:어음 위·변조 63:해산/파산 65:회계처리기준위반등 67:횡령\n",
    "11:대표이사변경 29:영업정지/조업중단등 10:담보제공/채무보증 23:소송 37:재해발생 40:제품수거/파기 50:증자/감자 54:차입 \"\"\"\n",
    "\n",
    "\"\"\"추출 리스트 1,3,4,14,15,19,24,27,63,65,67 \"\"\"\n",
    "start = 2010\n",
    "end = 2020\n",
    "section = 3\n",
    "\n"
   ]
  },
  {
   "cell_type": "code",
   "execution_count": 4,
   "id": "13a845c0",
   "metadata": {
    "ExecuteTime": {
     "end_time": "2021-12-07T02:19:33.242133Z",
     "start_time": "2021-12-07T02:17:40.305455Z"
    },
    "scrolled": true
   },
   "outputs": [
    {
     "name": "stderr",
     "output_type": "stream",
     "text": [
      "\r",
      "  0%|                                                                                            | 0/4 [00:00<?, ?it/s]"
     ]
    },
    {
     "name": "stdout",
     "output_type": "stream",
     "text": [
      "2010-2012년도의 해당 공시자료 수는 251입니다.\n",
      "남은 페이지 수는 251입니다.\n",
      "잔여 날짜 RESPONSE 200\n",
      "잔여 문서 코드 RESPONSE 200\n",
      "남은 페이지 수는 151입니다.\n",
      "잔여 날짜 RESPONSE 200\n",
      "잔여 문서 코드 RESPONSE 200\n",
      "남은 페이지 수는 51입니다. 수고했어\n",
      "잔여 날짜 RESPONSE 200\n"
     ]
    },
    {
     "name": "stderr",
     "output_type": "stream",
     "text": [
      "\r",
      " 25%|█████████████████████                                                               | 1/4 [00:34<01:44, 34.94s/it]"
     ]
    },
    {
     "name": "stdout",
     "output_type": "stream",
     "text": [
      "잔여 문서 코드 RESPONSE 200\n",
      "2013-2015년도의 해당 공시자료 수는 142입니다.\n",
      "남은 페이지 수는 142입니다.\n",
      "잔여 날짜 RESPONSE 200\n",
      "잔여 문서 코드 RESPONSE 200\n",
      "남은 페이지 수는 42입니다. 수고했어\n",
      "잔여 날짜 RESPONSE 200\n"
     ]
    },
    {
     "name": "stderr",
     "output_type": "stream",
     "text": [
      "\r",
      " 50%|██████████████████████████████████████████                                          | 2/4 [00:58<00:56, 28.06s/it]"
     ]
    },
    {
     "name": "stdout",
     "output_type": "stream",
     "text": [
      "잔여 문서 코드 RESPONSE 200\n",
      "2016-2018년도의 해당 공시자료 수는 162입니다.\n",
      "남은 페이지 수는 162입니다.\n",
      "잔여 날짜 RESPONSE 200\n",
      "잔여 문서 코드 RESPONSE 200\n",
      "남은 페이지 수는 62입니다. 수고했어\n",
      "잔여 날짜 RESPONSE 200\n"
     ]
    },
    {
     "name": "stderr",
     "output_type": "stream",
     "text": [
      "\r",
      " 75%|███████████████████████████████████████████████████████████████                     | 3/4 [01:24<00:27, 27.33s/it]"
     ]
    },
    {
     "name": "stdout",
     "output_type": "stream",
     "text": [
      "잔여 문서 코드 RESPONSE 200\n",
      "2019-2021년도의 해당 공시자료 수는 147입니다.\n",
      "남은 페이지 수는 147입니다.\n",
      "잔여 날짜 RESPONSE 200\n",
      "잔여 문서 코드 RESPONSE 200\n",
      "남은 페이지 수는 47입니다. 수고했어\n",
      "잔여 날짜 RESPONSE 200\n"
     ]
    },
    {
     "name": "stderr",
     "output_type": "stream",
     "text": [
      "100%|████████████████████████████████████████████████████████████████████████████████████| 4/4 [01:47<00:00, 26.91s/it]"
     ]
    },
    {
     "name": "stdout",
     "output_type": "stream",
     "text": [
      "잔여 문서 코드 RESPONSE 200\n"
     ]
    },
    {
     "name": "stderr",
     "output_type": "stream",
     "text": [
      "\n"
     ]
    }
   ],
   "source": [
    "# 회사명 추출\n",
    "url = \"https://kind.krx.co.kr/investwarn/delcompany.do?method=searchDelCompanyMain#viewer\"\n",
    "driver = webdriver.Chrome('C:/Users/YoungMin/Desktop/chromedriver.exe')\n",
    "driver.get(url)\n",
    "driver.find_element_by_id('rAll').click() # 전\n",
    "\n",
    "time.sleep(0.1)    \n",
    "driver.find_element_by_xpath('//*[@id=\"currentPageSize\"]/option[4]').click() # show 100 case\n",
    "time.sleep(0.1)\n",
    "\n",
    "for i in tqdm(range((end - start)//section + 1)):\n",
    "    \n",
    "    sty = driver.find_element_by_id(\"fromDate\")\n",
    "    #time.sleep(0.1)\n",
    "    sty.clear()\n",
    "    #time.sleep(0.1)\n",
    "    sty.send_keys(\"{fromD}-01-01\".format(fromD= start))\n",
    "    #time.sleep(0.1)\n",
    "\n",
    "    edy = driver.find_element_by_id(\"toDate\")\n",
    "    #time.sleep(0.1)\n",
    "    edy.clear()\n",
    "    #time.sleep(0.1)\n",
    "    edy.send_keys(\"{toD}-12-31\".format(toD = start + 2))\n",
    "\n",
    "    driver.find_element_by_xpath('//*[@id=\"searchForm\"]/section[1]/div/div[3]/a[1]').click()\n",
    "    time.sleep(2)\n",
    "\n",
    "    page = driver.find_element_by_xpath('//*[@id=\"main-contents\"]/section[2]/div[2]/em').text # 총 몇 페이지\n",
    "    page = page.replace(',','')\n",
    "    page = int(page)\n",
    "    page_ = page \n",
    "    print('{start}-{end_}년도의 해당 공시자료 수는 {page}입니다.'.format(start=start,end_=start+section-1, page=page))\n",
    "    \n",
    "    if page <= 1000:\n",
    "        # 남은 페이지가 100이 넘을 때\n",
    "        while page_ >=100:\n",
    "            print('남은 페이지 수는 {num}입니다.'.format(num = page_))\n",
    "            for i in range(100): # 공시 정보 수집\n",
    "                company_value = driver.find_element_by_xpath('/html/body/section[2]/section/article/section[1]/table/tbody/tr[{num}]/td[2]/a'.format(num = i + 1)).text\n",
    "                company.append(company_value)\n",
    "                topic_value = driver.find_element_by_xpath('/html/body/section[2]/section/article/section[1]/table/tbody/tr[{num}]/td[4]'.format(num = i + 1)).text\n",
    "                topic.append(topic_value)\n",
    "                #time.sleep(0.3)\n",
    "            print('잔여 날짜 RESPONSE 200')\n",
    "\n",
    "            for i in range(100): # 공시 날짜 수집\n",
    "                onclick_value = driver.find_element_by_xpath('/html/body/section[2]/section/article/section[1]/table/tbody/tr[{num}]/td[3]'.format(num = i + 1)).text\n",
    "                #time.sleep(0.3)\n",
    "                date.append(onclick_value)\n",
    "            print('잔여 문서 코드 RESPONSE 200')\n",
    "            time.sleep(0.2)\n",
    "            driver.find_element_by_xpath('//*[@id=\"main-contents\"]/section[2]/div[1]/a[{num}]'.format(num = page//100 + 4)).click() # 페이지 넘기는 코드\n",
    "            time.sleep(2)\n",
    "            page_ = page_ - 100\n",
    "    else:\n",
    "        print('공시문서가 1000개가 넘어 오류가 발생합니다!!')\n",
    "\n",
    "    # 남은 페이지가 100보다 작을 떄     \n",
    "    \"\"\" if page_ < 100: \"\"\"\n",
    "    print('남은 페이지 수는 {num}입니다. 수고했어'.format(num = page_))\n",
    "\n",
    "    for i in range(page_): # 공시 정보 수집\n",
    "        company_value = driver.find_element_by_xpath('/html/body/section[2]/section/article/section[1]/table/tbody/tr[{num}]/td[2]/a'.format(num = i + 1)).text\n",
    "        company.append(company_value)\n",
    "        topic_value = driver.find_element_by_xpath('/html/body/section[2]/section/article/section[1]/table/tbody/tr[{num}]/td[4]'.format(num = i + 1)).text\n",
    "        topic.append(topic_value)\n",
    "        #time.sleep(0.3)\n",
    "    print('잔여 날짜 RESPONSE 200')\n",
    "\n",
    "    for i in range(page_): # 공시 날짜 수집\n",
    "        onclick_value = driver.find_element_by_xpath('/html/body/section[2]/section/article/section[1]/table/tbody/tr[{num}]/td[3]'.format(num = i + 1)).text\n",
    "        #time.sleep(0.3)\n",
    "        date.append(onclick_value)\n",
    "    print('잔여 문서 코드 RESPONSE 200')\n",
    "\n",
    "    start += 3\n"
   ]
  },
  {
   "cell_type": "code",
   "execution_count": 5,
   "id": "c6422039",
   "metadata": {
    "ExecuteTime": {
     "end_time": "2021-12-07T02:19:33.275045Z",
     "start_time": "2021-12-07T02:19:33.244127Z"
    },
    "scrolled": true
   },
   "outputs": [
    {
     "data": {
      "text/plain": [
       "702"
      ]
     },
     "execution_count": 5,
     "metadata": {},
     "output_type": "execute_result"
    }
   ],
   "source": [
    "len(date)"
   ]
  },
  {
   "cell_type": "code",
   "execution_count": 14,
   "id": "ed892465",
   "metadata": {
    "ExecuteTime": {
     "end_time": "2021-12-07T05:24:47.682709Z",
     "start_time": "2021-12-07T05:24:47.637813Z"
    },
    "scrolled": true
   },
   "outputs": [
    {
     "data": {
      "text/html": [
       "<div>\n",
       "<style scoped>\n",
       "    .dataframe tbody tr th:only-of-type {\n",
       "        vertical-align: middle;\n",
       "    }\n",
       "\n",
       "    .dataframe tbody tr th {\n",
       "        vertical-align: top;\n",
       "    }\n",
       "\n",
       "    .dataframe thead th {\n",
       "        text-align: right;\n",
       "    }\n",
       "</style>\n",
       "<table border=\"1\" class=\"dataframe\">\n",
       "  <thead>\n",
       "    <tr style=\"text-align: right;\">\n",
       "      <th></th>\n",
       "      <th>회사명</th>\n",
       "      <th>공시발생일</th>\n",
       "      <th>폐지사유</th>\n",
       "    </tr>\n",
       "  </thead>\n",
       "  <tbody>\n",
       "    <tr>\n",
       "      <th>0</th>\n",
       "      <td>우리스팩1호</td>\n",
       "      <td>2012-12-21</td>\n",
       "      <td>SPAC 상장예비심사청구서 미제출 등</td>\n",
       "    </tr>\n",
       "    <tr>\n",
       "      <th>1</th>\n",
       "      <td>중앙건설</td>\n",
       "      <td>2012-12-11</td>\n",
       "      <td>보통주 주가수준미달</td>\n",
       "    </tr>\n",
       "    <tr>\n",
       "      <th>2</th>\n",
       "      <td>알에스넷</td>\n",
       "      <td>2012-12-05</td>\n",
       "      <td>기업의 계속성, 경영의 투명성 또는 기타 코스닥시장의 건전성 등을 종합적으로 고려하...</td>\n",
       "    </tr>\n",
       "    <tr>\n",
       "      <th>3</th>\n",
       "      <td>큐리어스</td>\n",
       "      <td>2012-11-27</td>\n",
       "      <td>기업의 계속성, 경영의 투명성 또는 기타 코스닥시장의 건전성 등을 종합적으로 고려하...</td>\n",
       "    </tr>\n",
       "    <tr>\n",
       "      <th>4</th>\n",
       "      <td>넷웨이브</td>\n",
       "      <td>2012-11-17</td>\n",
       "      <td>기업의 계속성 및 경영의 투명성 등을 종합적으로 고려하여 상장폐지 기준에 해당한다고 결정</td>\n",
       "    </tr>\n",
       "    <tr>\n",
       "      <th>...</th>\n",
       "      <td>...</td>\n",
       "      <td>...</td>\n",
       "      <td>...</td>\n",
       "    </tr>\n",
       "    <tr>\n",
       "      <th>697</th>\n",
       "      <td>스페이스솔루션</td>\n",
       "      <td>2019-02-27</td>\n",
       "      <td>상장폐지 신청('19.1.25)</td>\n",
       "    </tr>\n",
       "    <tr>\n",
       "      <th>698</th>\n",
       "      <td>원익테라세미콘</td>\n",
       "      <td>2019-02-20</td>\n",
       "      <td>피흡수합병</td>\n",
       "    </tr>\n",
       "    <tr>\n",
       "      <th>699</th>\n",
       "      <td>우리은행</td>\n",
       "      <td>2019-02-13</td>\n",
       "      <td>지주회사(최대주주등)의 완전자회사화 등</td>\n",
       "    </tr>\n",
       "    <tr>\n",
       "      <th>700</th>\n",
       "      <td>한국4호스팩</td>\n",
       "      <td>2019-01-29</td>\n",
       "      <td>상장예비심사 청구서 미제출로 관리종목 지정 후 1개월 이내 동 사유 미해소</td>\n",
       "    </tr>\n",
       "    <tr>\n",
       "      <th>701</th>\n",
       "      <td>차이나하오란</td>\n",
       "      <td>2019-01-02</td>\n",
       "      <td>제28조제1항제9호에 따라 관리종목 지정 후 공시규정 제19조 제1항에 따른 분기보...</td>\n",
       "    </tr>\n",
       "  </tbody>\n",
       "</table>\n",
       "<p>702 rows × 3 columns</p>\n",
       "</div>"
      ],
      "text/plain": [
       "         회사명       공시발생일                                               폐지사유\n",
       "0     우리스팩1호  2012-12-21                               SPAC 상장예비심사청구서 미제출 등\n",
       "1       중앙건설  2012-12-11                                         보통주 주가수준미달\n",
       "2       알에스넷  2012-12-05  기업의 계속성, 경영의 투명성 또는 기타 코스닥시장의 건전성 등을 종합적으로 고려하...\n",
       "3       큐리어스  2012-11-27  기업의 계속성, 경영의 투명성 또는 기타 코스닥시장의 건전성 등을 종합적으로 고려하...\n",
       "4       넷웨이브  2012-11-17  기업의 계속성 및 경영의 투명성 등을 종합적으로 고려하여 상장폐지 기준에 해당한다고 결정\n",
       "..       ...         ...                                                ...\n",
       "697  스페이스솔루션  2019-02-27                                  상장폐지 신청('19.1.25)\n",
       "698  원익테라세미콘  2019-02-20                                              피흡수합병\n",
       "699     우리은행  2019-02-13                              지주회사(최대주주등)의 완전자회사화 등\n",
       "700   한국4호스팩  2019-01-29          상장예비심사 청구서 미제출로 관리종목 지정 후 1개월 이내 동 사유 미해소\n",
       "701   차이나하오란  2019-01-02  제28조제1항제9호에 따라 관리종목 지정 후 공시규정 제19조 제1항에 따른 분기보...\n",
       "\n",
       "[702 rows x 3 columns]"
      ]
     },
     "execution_count": 14,
     "metadata": {},
     "output_type": "execute_result"
    }
   ],
   "source": [
    "text_df = pd.DataFrame({'회사명': company,\n",
    "                        '공시발생일' : date,\n",
    "                        '폐지사유' : topic})\n",
    "text_df"
   ]
  },
  {
   "cell_type": "code",
   "execution_count": 15,
   "id": "f76406c5",
   "metadata": {
    "ExecuteTime": {
     "end_time": "2021-12-07T05:34:30.167534Z",
     "start_time": "2021-12-07T05:34:30.088721Z"
    }
   },
   "outputs": [],
   "source": [
    "text_df.to_csv(\"data/crawling.csv\")"
   ]
  },
  {
   "cell_type": "code",
   "execution_count": 16,
   "id": "fe32870f",
   "metadata": {
    "ExecuteTime": {
     "end_time": "2021-12-07T05:34:31.856654Z",
     "start_time": "2021-12-07T05:34:31.830542Z"
    }
   },
   "outputs": [
    {
     "data": {
      "text/plain": [
       "피흡수합병                                                             59\n",
       "코스닥시장 이전상장                                                        51\n",
       "해산 사유 발생                                                          48\n",
       "상장예비심사 청구서 미제출로 관리종목 지정 후 1개월 이내 동 사유 미해소                         41\n",
       "신청에 의한 상장폐지                                                       40\n",
       "                                                                  ..\n",
       "기업의 계속성, 경영의 투명성 또는 기타 코스닥시장의 건전성 등을 종합적으로 고려하여 상장폐지가 필요하다고 결정     1\n",
       "상장폐지 신청('17.06.22)                                                 1\n",
       "2반기 연속 자본잠식률 50% 이상                                                1\n",
       "감사의견 거절(내부회계관리제도상의 취약점, 계속기업가정의 불확실성 및 재고자산 관련 감사범위 제한)            1\n",
       "사업보고서 법정제출기한('20.3.30限)내 미제출                                       1\n",
       "Name: 폐지사유, Length: 157, dtype: int64"
      ]
     },
     "execution_count": 16,
     "metadata": {},
     "output_type": "execute_result"
    }
   ],
   "source": [
    "text_df[\"폐지사유\"].value_counts()"
   ]
  },
  {
   "cell_type": "code",
   "execution_count": 17,
   "id": "90ff1330",
   "metadata": {
    "ExecuteTime": {
     "end_time": "2021-12-07T05:34:32.860414Z",
     "start_time": "2021-12-07T05:34:32.852426Z"
    }
   },
   "outputs": [
    {
     "name": "stdout",
     "output_type": "stream",
     "text": [
      "223\n"
     ]
    }
   ],
   "source": [
    "n = 0\n",
    "for i in text_df[\"폐지사유\"]:\n",
    "    if \"부도\" in i or \"파산\" in i or \"잠식\" in i or \"거절\" in i:\n",
    "        n += 1\n",
    "    else :\n",
    "        continue\n",
    "print(n)"
   ]
  },
  {
   "cell_type": "code",
   "execution_count": null,
   "id": "fba6eeec",
   "metadata": {},
   "outputs": [],
   "source": []
  }
 ],
 "metadata": {
  "kernelspec": {
   "display_name": "Python 3",
   "language": "python",
   "name": "python3"
  },
  "language_info": {
   "codemirror_mode": {
    "name": "ipython",
    "version": 3
   },
   "file_extension": ".py",
   "mimetype": "text/x-python",
   "name": "python",
   "nbconvert_exporter": "python",
   "pygments_lexer": "ipython3",
   "version": "3.8.8"
  },
  "toc": {
   "base_numbering": 1,
   "nav_menu": {},
   "number_sections": true,
   "sideBar": true,
   "skip_h1_title": false,
   "title_cell": "Table of Contents",
   "title_sidebar": "Contents",
   "toc_cell": false,
   "toc_position": {},
   "toc_section_display": true,
   "toc_window_display": false
  }
 },
 "nbformat": 4,
 "nbformat_minor": 5
}
